{
 "cells": [
  {
   "cell_type": "code",
   "execution_count": 40,
   "metadata": {},
   "outputs": [],
   "source": [
    "data = read.csv('dataDescriptiveStatistics.csv', sep=\";\", dec=\".\")"
   ]
  },
  {
   "cell_type": "code",
   "execution_count": 41,
   "metadata": {
    "scrolled": true
   },
   "outputs": [
    {
     "data": {
      "text/html": [
       "6143.46792609742"
      ],
      "text/latex": [
       "6143.46792609742"
      ],
      "text/markdown": [
       "6143.46792609742"
      ],
      "text/plain": [
       "[1] 6143.468"
      ]
     },
     "metadata": {},
     "output_type": "display_data"
    }
   ],
   "source": [
    "mean(data$Distance)"
   ]
  },
  {
   "cell_type": "code",
   "execution_count": 42,
   "metadata": {
    "scrolled": false
   },
   "outputs": [
    {
     "data": {
      "text/html": [
       "5439.32612079773"
      ],
      "text/latex": [
       "5439.32612079773"
      ],
      "text/markdown": [
       "5439.32612079773"
      ],
      "text/plain": [
       "[1] 5439.326"
      ]
     },
     "metadata": {},
     "output_type": "display_data"
    }
   ],
   "source": [
    "median(data$Distance)"
   ]
  },
  {
   "cell_type": "markdown",
   "metadata": {},
   "source": [
    "median < mean  - There is a probability that noises makes the mean more than the median"
   ]
  },
  {
   "cell_type": "code",
   "execution_count": 43,
   "metadata": {
    "scrolled": true
   },
   "outputs": [
    {
     "data": {
      "text/html": [
       "<dl class=dl-horizontal>\n",
       "\t<dt>0%</dt>\n",
       "\t\t<dd>693.187251989231</dd>\n",
       "\t<dt>25%</dt>\n",
       "\t\t<dd>3747.41356286165</dd>\n",
       "\t<dt>50%</dt>\n",
       "\t\t<dd>5439.32612079773</dd>\n",
       "\t<dt>75%</dt>\n",
       "\t\t<dd>7931.96214424949</dd>\n",
       "\t<dt>100%</dt>\n",
       "\t\t<dd>19293.8276005379</dd>\n",
       "</dl>\n"
      ],
      "text/latex": [
       "\\begin{description*}\n",
       "\\item[0\\textbackslash{}\\%] 693.187251989231\n",
       "\\item[25\\textbackslash{}\\%] 3747.41356286165\n",
       "\\item[50\\textbackslash{}\\%] 5439.32612079773\n",
       "\\item[75\\textbackslash{}\\%] 7931.96214424949\n",
       "\\item[100\\textbackslash{}\\%] 19293.8276005379\n",
       "\\end{description*}\n"
      ],
      "text/markdown": [
       "0%\n",
       ":   693.18725198923125%\n",
       ":   3747.4135628616550%\n",
       ":   5439.3261207977375%\n",
       ":   7931.96214424949100%\n",
       ":   19293.8276005379\n",
       "\n"
      ],
      "text/plain": [
       "        0%        25%        50%        75%       100% \n",
       "  693.1873  3747.4136  5439.3261  7931.9621 19293.8276 "
      ]
     },
     "metadata": {},
     "output_type": "display_data"
    }
   ],
   "source": [
    "quantile(data$Distance)"
   ]
  },
  {
   "cell_type": "markdown",
   "metadata": {},
   "source": [
    "We can count all these values by following command"
   ]
  },
  {
   "cell_type": "code",
   "execution_count": 44,
   "metadata": {
    "scrolled": true
   },
   "outputs": [
    {
     "data": {
      "text/plain": [
       "   Min. 1st Qu.  Median    Mean 3rd Qu.    Max. \n",
       "  693.2  3747.4  5439.3  6143.5  7932.0 19293.8 "
      ]
     },
     "metadata": {},
     "output_type": "display_data"
    }
   ],
   "source": [
    "summary(data$Distance)"
   ]
  },
  {
   "cell_type": "code",
   "execution_count": 45,
   "metadata": {},
   "outputs": [
    {
     "data": {
      "text/html": [
       "11133685.4113156"
      ],
      "text/latex": [
       "11133685.4113156"
      ],
      "text/markdown": [
       "11133685.4113156"
      ],
      "text/plain": [
       "[1] 11133685"
      ]
     },
     "metadata": {},
     "output_type": "display_data"
    }
   ],
   "source": [
    "var(data$Distance)"
   ]
  },
  {
   "cell_type": "code",
   "execution_count": 46,
   "metadata": {},
   "outputs": [
    {
     "data": {
      "text/html": [
       "3336.71776021221"
      ],
      "text/latex": [
       "3336.71776021221"
      ],
      "text/markdown": [
       "3336.71776021221"
      ],
      "text/plain": [
       "[1] 3336.718"
      ]
     },
     "metadata": {},
     "output_type": "display_data"
    }
   ],
   "source": [
    "sd(data$Distance)"
   ]
  }
 ],
 "metadata": {
  "kernelspec": {
   "display_name": "R",
   "language": "R",
   "name": "ir"
  }
 },
 "nbformat": 4,
 "nbformat_minor": 2
}
